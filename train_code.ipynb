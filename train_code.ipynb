{
  "nbformat": 4,
  "nbformat_minor": 0,
  "metadata": {
    "colab": {
      "provenance": [],
      "authorship_tag": "ABX9TyMefLwvcD9V5bqVV9aPX/H9",
      "include_colab_link": true
    },
    "kernelspec": {
      "name": "python3",
      "display_name": "Python 3"
    },
    "language_info": {
      "name": "python"
    },
    "accelerator": "TPU"
  },
  "cells": [
    {
      "cell_type": "markdown",
      "metadata": {
        "id": "view-in-github",
        "colab_type": "text"
      },
      "source": [
        "<a href=\"https://colab.research.google.com/github/Dae12-Han/TMI_capstone/blob/main/train_code.ipynb\" target=\"_parent\"><img src=\"https://colab.research.google.com/assets/colab-badge.svg\" alt=\"Open In Colab\"/></a>"
      ]
    },
    {
      "cell_type": "code",
      "execution_count": null,
      "metadata": {
        "id": "2HhSn33nN_8E",
        "colab": {
          "base_uri": "https://localhost:8080/"
        },
        "outputId": "8f82d6ce-78f6-401e-8cc2-32e2bac4d140"
      },
      "outputs": [
        {
          "output_type": "stream",
          "name": "stdout",
          "text": [
            "Mounted at /content/drive\n"
          ]
        }
      ],
      "source": [
        "# 드라이브 마운트\n",
        "from google.colab import drive\n",
        "drive.mount('/content/drive')"
      ]
    },
    {
      "cell_type": "code",
      "source": [
        "%cd /content/drive/MyDrive/TMI\n",
        "\n",
        "!unzip -qq \"/content/drive/MyDrive/TMI/data_img.zip\""
      ],
      "metadata": {
        "id": "gZRITMXwOLo-",
        "colab": {
          "base_uri": "https://localhost:8080/"
        },
        "outputId": "1245d206-d98c-4f3c-9d05-3dd26eb1e727"
      },
      "execution_count": null,
      "outputs": [
        {
          "output_type": "stream",
          "name": "stdout",
          "text": [
            "/content/drive/MyDrive/TMI\n",
            "replace __MACOSX/data_img/._.DS_Store? [y]es, [n]o, [A]ll, [N]one, [r]ename: y\n"
          ]
        }
      ]
    },
    {
      "cell_type": "markdown",
      "source": [
        "### 라이브러리 로드"
      ],
      "metadata": {
        "id": "NEqXazz6PQ8L"
      }
    },
    {
      "cell_type": "code",
      "source": [
        "import tensorflow as tf\n",
        "from tensorflow import keras #import keras\n",
        "from tensorflow.keras.utils import to_categorical\n",
        "from tensorflow.keras.layers import Dense, Flatten, Conv2D, Dropout, MaxPool2D\n",
        "import numpy as np\n",
        "from tensorflow.keras import Model\n",
        "from keras import optimizers\n",
        "\n",
        "\n",
        "#from keras.callbacks import EarlyStopping\n",
        "#from keras.callbacks import ModelCheckpoint\n",
        "\n",
        "import IPython.display as display\n",
        "from PIL import Image\n",
        "import matplotlib.pyplot as plt\n",
        "import os, shutil\n",
        "\n",
        "keras.__version__"
      ],
      "metadata": {
        "id": "cOYWC_HeUu1h",
        "colab": {
          "base_uri": "https://localhost:8080/",
          "height": 36
        },
        "outputId": "a2f21ee9-d58c-40d5-e2a4-c7a584f1054b"
      },
      "execution_count": null,
      "outputs": [
        {
          "output_type": "execute_result",
          "data": {
            "text/plain": [
              "'2.12.0'"
            ],
            "application/vnd.google.colaboratory.intrinsic+json": {
              "type": "string"
            }
          },
          "metadata": {},
          "execution_count": 4
        }
      ]
    },
    {
      "cell_type": "markdown",
      "source": [
        "## 파일 불러오기"
      ],
      "metadata": {
        "id": "rqreTz70880e"
      }
    },
    {
      "cell_type": "code",
      "source": [
        "import pathlib"
      ],
      "metadata": {
        "id": "wQr2FylflHwY"
      },
      "execution_count": null,
      "outputs": []
    },
    {
      "cell_type": "code",
      "source": [
        "data_dir = pathlib.PosixPath('/content/drive/MyDrive/TMI/data_img')"
      ],
      "metadata": {
        "id": "1s42LpAslH12"
      },
      "execution_count": null,
      "outputs": []
    },
    {
      "cell_type": "code",
      "source": [
        "print(data_dir)"
      ],
      "metadata": {
        "colab": {
          "base_uri": "https://localhost:8080/"
        },
        "id": "kd5pzKN8lH4L",
        "outputId": "afacf1d8-3ea0-4215-c337-d6159fada3fa"
      },
      "execution_count": null,
      "outputs": [
        {
          "output_type": "stream",
          "name": "stdout",
          "text": [
            "/content/drive/MyDrive/TMI/data_img\n"
          ]
        }
      ]
    },
    {
      "cell_type": "code",
      "source": [
        "image_count = len(list(data_dir.glob('*/*.png')))\n",
        "image_count"
      ],
      "metadata": {
        "colab": {
          "base_uri": "https://localhost:8080/"
        },
        "id": "dnnW5DvClH6h",
        "outputId": "3d79e8e5-a0bb-40f7-9a7e-932c38f54c3d"
      },
      "execution_count": null,
      "outputs": [
        {
          "output_type": "execute_result",
          "data": {
            "text/plain": [
              "200"
            ]
          },
          "metadata": {},
          "execution_count": 87
        }
      ]
    },
    {
      "cell_type": "code",
      "source": [
        "CLASS_NAMES = np.array([item.name for item in data_dir.glob('*')])\n",
        "CLASS_NAMES"
      ],
      "metadata": {
        "colab": {
          "base_uri": "https://localhost:8080/"
        },
        "id": "RCWsoFhNlH85",
        "outputId": "e1a80925-6397-4aa8-d626-9b24872047ad"
      },
      "execution_count": null,
      "outputs": [
        {
          "output_type": "execute_result",
          "data": {
            "text/plain": [
              "array(['toilet_flush', 'baby_crying', 'door_knock', 'clock_alram',\n",
              "       'vaccum_cleaner'], dtype='<U14')"
            ]
          },
          "metadata": {},
          "execution_count": 88
        }
      ]
    },
    {
      "cell_type": "markdown",
      "source": [
        "## Train/Test/Validation Dataset 만들기"
      ],
      "metadata": {
        "id": "QsihmnDl9E2T"
      }
    },
    {
      "cell_type": "code",
      "source": [
        "import os\n",
        "import shutil\n",
        "from sklearn.model_selection import train_test_split\n",
        "\n",
        "# 클래스 리스트\n",
        "classes = ['baby_crying', 'clock_alram', 'toilet_flush', 'vaccum_cleaner','door_knock']\n",
        "\n",
        "# 원본 이미지 경로\n",
        "data_dir = '/content/drive/MyDrive/TMI/data_img'\n",
        "\n",
        "# train, test, validation 데이터를 저장할 경로\n",
        "train_dir = '/content/drive/MyDrive/TMI/data_img/train'\n",
        "test_dir = '/content/drive/MyDrive/TMI/data_img/test'\n",
        "validation_dir = '/content/drive/MyDrive/TMI/data_img/validation'\n",
        "\n",
        "for cls in classes:\n",
        "    # 각 클래스의 원본 이미지 경로\n",
        "    src_dir = os.path.join(data_dir, cls)\n",
        "\n",
        "    # 이미지 파일 리스트\n",
        "    files = os.listdir(src_dir)\n",
        "    print(files)\n",
        "\n",
        "    # train, test 분할\n",
        "    train_files, test_files = train_test_split(files, test_size=0.2, random_state=42)\n",
        "\n",
        "    # train, validation 분할\n",
        "    train_files, val_files = train_test_split(train_files, test_size=0.25, random_state=42)\n",
        "\n",
        "    # 각 클래스별로 폴더를 생성\n",
        "    os.makedirs(os.path.join(train_dir, cls), exist_ok=True)\n",
        "    os.makedirs(os.path.join(test_dir, cls), exist_ok=True)\n",
        "    os.makedirs(os.path.join(validation_dir, cls), exist_ok=True)\n",
        "\n",
        "    # train, test, validation 폴더에 이미지 복사\n",
        "    for file in train_files:\n",
        "        shutil.copy(os.path.join(src_dir, file), os.path.join(train_dir, cls))\n",
        "    for file in test_files:\n",
        "        shutil.copy(os.path.join(src_dir, file), os.path.join(test_dir, cls))\n",
        "    for file in val_files:\n",
        "        shutil.copy(os.path.join(src_dir, file), os.path.join(validation_dir, cls))"
      ],
      "metadata": {
        "colab": {
          "base_uri": "https://localhost:8080/"
        },
        "id": "uAcdRibqli92",
        "outputId": "09927be0-9d6b-463b-b67e-f2572cd8f168"
      },
      "execution_count": null,
      "outputs": [
        {
          "output_type": "stream",
          "name": "stdout",
          "text": [
            "['5-198411-F-20.png', '2-66637-B-20.png', '3-152007-A-20.png', '4-167077-B-20.png', '3-152007-C-20.png', '1-60997-B-20.png', '5-198411-D-20.png', '4-59579-B-20.png', '1-211527-B-20.png', '4-185575-A-20.png', '3-151081-B-20.png', '2-107351-B-20.png', '1-22694-A-20.png', '5-198411-B-20.png', '5-151085-A-20.png', '2-50665-A-20.png', '4-185575-C-20.png', '3-152007-E-20.png', '1-60997-A-20.png', '4-167077-C-20.png', '4-59579-A-20.png', '5-198411-G-20.png', '2-151079-A-20.png', '2-66637-A-20.png', '5-198411-E-20.png', '4-167077-A-20.png', '3-152007-B-20.png', '5-198411-A-20.png', '2-50666-A-20.png', '1-22694-B-20.png', '2-107351-A-20.png', '1-211527-C-20.png', '1-187207-A-20.png', '4-185575-B-20.png', '3-152007-D-20.png', '1-211527-A-20.png', '5-198411-C-20.png', '2-80482-A-20.png', '3-151081-A-20.png', '3-151080-A-20.png']\n",
            "['3-132340-A-37.png', '2-78562-B-37.png', '5-223176-A-37.png', '4-172366-A-37.png', '5-210612-A-37.png', '5-233645-A-37.png', '2-104476-A-37.png', '5-250629-A-37.png', '4-204684-A-37.png', '2-89516-A-37.png', '1-72195-B-37.png', '5-219242-A-37.png', '1-67033-A-37.png', '3-139958-A-37.png', '4-189332-A-37.png', '2-102435-A-37.png', '1-74517-A-37.png', '4-151242-A-37.png', '3-120526-A-37.png', '2-117116-A-37.png', '1-96890-A-37.png', '2-104475-A-37.png', '5-211408-A-37.png', '4-209698-A-37.png', '1-13613-A-37.png', '1-14262-A-37.png', '3-131943-A-37.png', '2-78562-A-37.png', '3-148297-A-37.png', '2-96063-A-37.png', '4-209536-A-37.png', '4-169508-A-37.png', '3-120526-B-37.png', '1-34853-A-37.png', '4-198841-A-37.png', '5-234247-A-37.png', '5-219242-B-37.png', '3-117793-A-37.png', '1-72195-A-37.png', '3-117883-A-37.png']\n",
            "['5-197913-A-18.png', '2-84943-A-18.png', '3-108791-A-18.png', '3-108677-A-18.png', '2-65484-A-18.png', '5-182404-A-18.png', '2-70280-A-18.png', '4-141365-A-18.png', '3-93010-A-18.png', '4-126046-A-18.png', '5-202020-A-18.png', '4-135439-A-18.png', '5-156698-A-18.png', '5-202540-A-18.png', '1-51170-A-18.png', '1-28005-A-18.png', '1-54752-A-18.png', '2-74977-A-18.png', '3-100018-A-18.png', '2-72677-A-18.png', '5-201664-A-18.png', '4-119720-A-18.png', '1-56269-A-18.png', '3-118059-A-18.png', '1-46274-A-18.png', '3-92637-A-18.png', '4-126532-A-18.png', '4-152958-A-18.png', '2-64332-A-18.png', '3-98771-A-18.png', '5-185908-A-18.png', '4-145006-A-18.png', '2-85945-A-18.png', '1-30214-A-18.png', '5-177034-A-18.png', '4-123680-A-18.png', '3-112356-A-18.png', '1-53670-A-18.png', '1-20736-A-18.png', '2-67422-A-18.png']\n",
            "['5-182010-A-36.png', '2-122820-B-36.png', '1-79236-A-36.png', '1-100210-B-36.png', '1-19872-A-36.png', '5-182007-A-36.png', '5-188365-A-36.png', '3-159347-B-36.png', '3-159346-B-36.png', '5-263902-A-36.png', '3-152020-B-36.png', '3-159348-A-36.png', '1-19840-A-36.png', '4-172736-A-36.png', '4-194680-A-36.png', '1-46744-A-36.png', '2-141682-B-36.png', '2-141681-A-36.png', '1-60460-A-36.png', '5-231551-A-36.png', '1-19872-B-36.png', '1-100210-A-36.png', '5-212059-A-36.png', '3-159346-A-36.png', '3-159347-A-36.png', '2-122820-A-36.png', '4-172732-A-36.png', '4-172733-A-36.png', '5-182012-A-36.png', '2-106073-A-36.png', '2-106072-A-36.png', '4-146200-A-36.png', '2-141682-A-36.png', '4-181999-A-36.png', '4-172736-B-36.png', '3-152020-C-36.png', '4-172734-A-36.png', '2-141681-B-36.png', '3-152020-A-36.png', '5-212054-A-36.png']\n",
            "['2-118624-A-30.png', '2-118625-A-30.png', '5-250026-A-30.png', '3-182023-A-30.png', '4-182034-A-30.png', '1-52290-A-30.png', '3-152594-A-30.png', '3-154378-A-30.png', '5-251426-A-30.png', '1-103995-A-30.png', '2-120218-A-30.png', '2-140841-A-30.png', '1-103999-A-30.png', '1-81001-B-30.png', '4-187284-A-30.png', '4-186518-A-30.png', '5-235644-A-30.png', '2-134915-A-30.png', '1-101336-A-30.png', '3-144510-A-30.png', '3-151089-A-30.png', '4-182039-A-30.png', '5-256512-A-30.png', '3-182025-A-30.png', '4-211502-A-30.png', '4-261068-A-30.png', '5-251426-B-30.png', '4-188878-A-30.png', '3-180147-A-30.png', '1-26188-A-30.png', '1-82817-A-30.png', '5-250026-B-30.png', '4-182041-A-30.png', '2-133889-A-30.png', '2-114254-A-30.png', '1-81001-A-30.png', '3-170574-A-30.png', '2-120218-B-30.png', '5-218981-A-30.png', '5-218980-A-30.png']\n"
          ]
        }
      ]
    },
    {
      "cell_type": "code",
      "source": [
        "# training용 디렉터리\n",
        "train_vacuum_cleaner_dir = os.path.join(train_dir, 'vacuum_cleaner')\n",
        "train_toilet_flush_dir = os.path.join(train_dir, 'toilet_flush')\n",
        "train_door_knock_dir = os.path.join(train_dir, 'door_knock')\n",
        "train_baby_crying_dir = os.path.join(train_dir, 'baby_crying')\n",
        "train_clock_alarm_dir = os.path.join(train_dir, 'clock_alarm')"
      ],
      "metadata": {
        "id": "8Fe2Z2UjvhUX"
      },
      "execution_count": null,
      "outputs": []
    },
    {
      "cell_type": "code",
      "source": [
        "# validation용 디렉터리\n",
        "validation_vacuum_cleaner_dir = os.path.join(validation_dir, 'vacuum_cleaner')\n",
        "validation_toilet_flush_dir = os.path.join(validation_dir, 'toilet_flush')\n",
        "validation_door_knock_dir = os.path.join(validation_dir, 'door_knock')\n",
        "validation_baby_crying_dir = os.path.join(validation_dir, 'baby_crying')\n",
        "validation_clock_alarm_dir = os.path.join(validation_dir, 'clock_alarm')"
      ],
      "metadata": {
        "id": "L7PCjDmMvzd9"
      },
      "execution_count": null,
      "outputs": []
    },
    {
      "cell_type": "code",
      "source": [
        "# test용 디렉터리\n",
        "test_vacuum_cleaner_dir = os.path.join(test_dir, 'vacuum_cleaner')\n",
        "test_toilet_flush_dir = os.path.join(test_dir, 'toilet_flush')\n",
        "test_door_knock_dir = os.path.join(test_dir, 'door_knock')\n",
        "test_baby_crying_dir = os.path.join(test_dir, 'baby_crying')\n",
        "test_clock_alarm_dir = os.path.join(test_dir, 'clock_alarm')"
      ],
      "metadata": {
        "id": "4zPVSrfLvzw7"
      },
      "execution_count": null,
      "outputs": []
    },
    {
      "cell_type": "code",
      "source": [
        "print('훈련용 vacuum_cleaner 이미지 전체 개수:', len(os.listdir(train_vacuum_cleaner_dir)))"
      ],
      "metadata": {
        "colab": {
          "base_uri": "https://localhost:8080/"
        },
        "id": "N7Gq6P0Qvz1o",
        "outputId": "ba99b545-b208-4037-be20-2d7d67922d77"
      },
      "execution_count": null,
      "outputs": [
        {
          "output_type": "stream",
          "name": "stdout",
          "text": [
            "훈련용 vacuum_cleaner 이미지 전체 개수: 24\n"
          ]
        }
      ]
    },
    {
      "cell_type": "markdown",
      "source": [
        "## 모델 및 학습"
      ],
      "metadata": {
        "id": "WvcaP2j-9K5c"
      }
    },
    {
      "cell_type": "code",
      "source": [
        "##### conv 3, pooling 3\n",
        "class AcousticSoundModel(tf.keras.Model):\n",
        "    def __init__(self):\n",
        "        super(AcousticSoundModel, self).__init__()\n",
        "        self.conv1 = Conv2D(filters=64, kernel_size=[3, 3], padding='SAME', activation=tf.nn.relu)\n",
        "        self.drop1 = Dropout(rate=0.2)\n",
        "        self.pool1 = MaxPool2D(padding='SAME') ###### pooling 2x2. stride는 표기 x, 확인 ######\n",
        "\n",
        "        self.conv2 = Conv2D(filters=64, kernel_size=[3, 3], padding='SAME', activation=tf.nn.relu)\n",
        "        self.drop2 = Dropout(rate=0.2) #20% dropout\n",
        "        self.pool2 = MaxPool2D(padding='SAME')\n",
        "\n",
        "        self.conv3 = Conv2D(filters=64, kernel_size=[3, 3], padding='SAME', activation=tf.nn.relu)\n",
        "        self.drop3 = Dropout(rate=0.2) #20% dropout\n",
        "        self.pool3 = MaxPool2D(padding='SAME')\n",
        "\n",
        "        self.pool3_flat = keras.layers.Flatten()\n",
        "        self.dense4 = Dense(units=128, activation=tf.nn.relu)\n",
        "        self.dense5 = Dense(units=5, activation=tf.nn.sigmoid) ### 일단 5. class 개수 추가되는 대로 변경\n",
        "\n",
        "    def call(self, inputs, training=False):\n",
        "        net = self.conv1(inputs)\n",
        "        net = self.drop1(net)\n",
        "        net = self.pool1(net)\n",
        "\n",
        "        net = self.conv2(net)\n",
        "        net = self.drop2(net)\n",
        "        net = self.pool2(net)\n",
        "\n",
        "        net = self.conv3(net)\n",
        "        net = self.drop3(net)\n",
        "        net = self.pool3(net)\n",
        "\n",
        "        net = self.pool3_flat(net)\n",
        "        net = self.dense4(net)\n",
        "        net = self.dense5(net) #\n",
        "        return net"
      ],
      "metadata": {
        "id": "iW4_EPncvz6m"
      },
      "execution_count": null,
      "outputs": []
    },
    {
      "cell_type": "code",
      "source": [
        "model = AcousticSoundModel()"
      ],
      "metadata": {
        "id": "81inHzqDvhYx"
      },
      "execution_count": null,
      "outputs": []
    },
    {
      "cell_type": "code",
      "source": [
        "model.summary()"
      ],
      "metadata": {
        "id": "nYB84IWiz8mf"
      },
      "execution_count": null,
      "outputs": []
    },
    {
      "cell_type": "code",
      "source": [
        "learning_rate = 0.001\n",
        "training_epochs = 100\n",
        "batch_size = 4 #64\n",
        "target_size=(150, 150)"
      ],
      "metadata": {
        "id": "tSQlRiFBvhNE"
      },
      "execution_count": null,
      "outputs": []
    },
    {
      "cell_type": "code",
      "source": [
        "model.compile(loss='categorical_crossentropy',\n",
        "              optimizer=keras.optimizers.Adam(learning_rate),\n",
        "              metrics=['acc'])"
      ],
      "metadata": {
        "id": "vak6ZYNevhbo"
      },
      "execution_count": null,
      "outputs": []
    },
    {
      "cell_type": "code",
      "source": [
        "from keras.preprocessing.image import ImageDataGenerator\n",
        "\n",
        "train_datagen = ImageDataGenerator(rescale=1./255)\n",
        "test_datagen = ImageDataGenerator(rescale=1./255)\n",
        "\n",
        "train_generator = train_datagen.flow_from_directory(\n",
        "        train_dir, #target directory\n",
        "        target_size=target_size, #150 150\n",
        "        batch_size=batch_size,\n",
        "        class_mode='categorical')\n",
        "\n",
        "validation_generator = test_datagen.flow_from_directory(\n",
        "        validation_dir,\n",
        "        target_size=target_size,\n",
        "        batch_size=batch_size,\n",
        "        class_mode='categorical')"
      ],
      "metadata": {
        "colab": {
          "base_uri": "https://localhost:8080/"
        },
        "id": "UYo6Hb8aljE7",
        "outputId": "454ee878-6a4c-41c8-ba06-86465cf8a40d"
      },
      "execution_count": null,
      "outputs": [
        {
          "output_type": "stream",
          "name": "stdout",
          "text": [
            "Found 120 images belonging to 5 classes.\n",
            "Found 40 images belonging to 5 classes.\n"
          ]
        }
      ]
    },
    {
      "cell_type": "code",
      "source": [
        "for data_batch, labels_batch in train_generator:\n",
        "    print('batch data size:', data_batch.shape)\n",
        "    print('batch label size:', labels_batch.shape)\n",
        "    break"
      ],
      "metadata": {
        "colab": {
          "base_uri": "https://localhost:8080/"
        },
        "id": "bZ388p5tljHO",
        "outputId": "9db8e0bd-e602-4b5a-8f32-3ec4053c9ef1"
      },
      "execution_count": null,
      "outputs": [
        {
          "output_type": "stream",
          "name": "stdout",
          "text": [
            "batch data size: (4, 150, 150, 3)\n",
            "batch label size: (4, 5)\n"
          ]
        }
      ]
    },
    {
      "cell_type": "code",
      "source": [
        "print(train_dir)"
      ],
      "metadata": {
        "id": "I_TyyzZH7adn"
      },
      "execution_count": null,
      "outputs": []
    },
    {
      "cell_type": "code",
      "source": [
        "history = model.fit(\n",
        "      train_generator,\n",
        "      steps_per_epoch=25, # batch크기 4, 전체 200개 샘플이니까 25\n",
        "      epochs=100,\n",
        "      validation_data=validation_generator)"
      ],
      "metadata": {
        "colab": {
          "base_uri": "https://localhost:8080/"
        },
        "id": "AcWxFzcPljJU",
        "outputId": "73ffde07-15c7-4b43-c49a-92a6511a23a4"
      },
      "execution_count": null,
      "outputs": [
        {
          "output_type": "stream",
          "name": "stdout",
          "text": [
            "Epoch 1/100\n",
            "25/25 [==============================] - 76s 693ms/step - loss: 1.6370 - acc: 0.3200 - val_loss: 1.3001 - val_acc: 0.5250\n",
            "Epoch 2/100\n",
            "25/25 [==============================] - 17s 680ms/step - loss: 1.2779 - acc: 0.4200 - val_loss: 1.5145 - val_acc: 0.3500\n",
            "Epoch 3/100\n",
            "25/25 [==============================] - 18s 711ms/step - loss: 1.1919 - acc: 0.6200 - val_loss: 1.2264 - val_acc: 0.5250\n",
            "Epoch 4/100\n",
            "25/25 [==============================] - 16s 646ms/step - loss: 0.7395 - acc: 0.7100 - val_loss: 1.2412 - val_acc: 0.3500\n",
            "Epoch 5/100\n",
            "25/25 [==============================] - 16s 610ms/step - loss: 0.7125 - acc: 0.7000 - val_loss: 0.5521 - val_acc: 0.8250\n",
            "Epoch 6/100\n",
            "25/25 [==============================] - 17s 675ms/step - loss: 0.3768 - acc: 0.8800 - val_loss: 0.6244 - val_acc: 0.8000\n",
            "Epoch 7/100\n",
            "25/25 [==============================] - 18s 734ms/step - loss: 0.4476 - acc: 0.8300 - val_loss: 0.5632 - val_acc: 0.8250\n",
            "Epoch 8/100\n",
            "25/25 [==============================] - 18s 731ms/step - loss: 0.1264 - acc: 0.9700 - val_loss: 1.3128 - val_acc: 0.6500\n",
            "Epoch 9/100\n",
            "25/25 [==============================] - 18s 707ms/step - loss: 0.2908 - acc: 0.9000 - val_loss: 0.4983 - val_acc: 0.8250\n",
            "Epoch 10/100\n",
            "25/25 [==============================] - 18s 723ms/step - loss: 0.1777 - acc: 0.9600 - val_loss: 0.3918 - val_acc: 0.8750\n",
            "Epoch 11/100\n",
            "25/25 [==============================] - 17s 677ms/step - loss: 0.0984 - acc: 0.9500 - val_loss: 0.3834 - val_acc: 0.8500\n",
            "Epoch 12/100\n",
            "25/25 [==============================] - 17s 688ms/step - loss: 0.1319 - acc: 0.9600 - val_loss: 0.7013 - val_acc: 0.7250\n",
            "Epoch 13/100\n",
            "25/25 [==============================] - 16s 624ms/step - loss: 0.2520 - acc: 0.8900 - val_loss: 1.0105 - val_acc: 0.7250\n",
            "Epoch 14/100\n",
            "25/25 [==============================] - 16s 609ms/step - loss: 0.0884 - acc: 0.9800 - val_loss: 0.5706 - val_acc: 0.7250\n",
            "Epoch 15/100\n",
            "25/25 [==============================] - 17s 658ms/step - loss: 0.1179 - acc: 0.9400 - val_loss: 0.6108 - val_acc: 0.8250\n",
            "Epoch 16/100\n",
            "25/25 [==============================] - 18s 697ms/step - loss: 0.0563 - acc: 0.9700 - val_loss: 0.4678 - val_acc: 0.8250\n",
            "Epoch 17/100\n",
            "25/25 [==============================] - 17s 662ms/step - loss: 0.0306 - acc: 0.9900 - val_loss: 0.4225 - val_acc: 0.8500\n",
            "Epoch 18/100\n",
            "25/25 [==============================] - 18s 730ms/step - loss: 0.0435 - acc: 0.9800 - val_loss: 0.4601 - val_acc: 0.8250\n",
            "Epoch 19/100\n",
            "25/25 [==============================] - 18s 691ms/step - loss: 0.0107 - acc: 1.0000 - val_loss: 0.4872 - val_acc: 0.8500\n",
            "Epoch 20/100\n",
            "25/25 [==============================] - 19s 754ms/step - loss: 0.0601 - acc: 0.9900 - val_loss: 0.7065 - val_acc: 0.8250\n",
            "Epoch 21/100\n",
            "25/25 [==============================] - 22s 885ms/step - loss: 0.0489 - acc: 0.9900 - val_loss: 0.5212 - val_acc: 0.8000\n",
            "Epoch 22/100\n",
            "25/25 [==============================] - 18s 712ms/step - loss: 0.0126 - acc: 1.0000 - val_loss: 0.3958 - val_acc: 0.8500\n",
            "Epoch 23/100\n",
            "25/25 [==============================] - 18s 727ms/step - loss: 0.0504 - acc: 0.9900 - val_loss: 0.4452 - val_acc: 0.8000\n",
            "Epoch 24/100\n",
            "25/25 [==============================] - 17s 683ms/step - loss: 0.0211 - acc: 1.0000 - val_loss: 0.4176 - val_acc: 0.8000\n",
            "Epoch 25/100\n",
            "25/25 [==============================] - 18s 743ms/step - loss: 0.0235 - acc: 0.9800 - val_loss: 0.4319 - val_acc: 0.8250\n",
            "Epoch 26/100\n",
            "25/25 [==============================] - 20s 794ms/step - loss: 0.0076 - acc: 1.0000 - val_loss: 0.4658 - val_acc: 0.8750\n",
            "Epoch 27/100\n",
            "25/25 [==============================] - 18s 732ms/step - loss: 0.0040 - acc: 1.0000 - val_loss: 0.3993 - val_acc: 0.8750\n",
            "Epoch 28/100\n",
            "25/25 [==============================] - 17s 677ms/step - loss: 4.3673e-04 - acc: 1.0000 - val_loss: 0.3967 - val_acc: 0.8750\n",
            "Epoch 29/100\n",
            "25/25 [==============================] - 18s 738ms/step - loss: 2.8800e-04 - acc: 1.0000 - val_loss: 0.3957 - val_acc: 0.8750\n",
            "Epoch 30/100\n",
            "25/25 [==============================] - 17s 650ms/step - loss: 2.3202e-04 - acc: 1.0000 - val_loss: 0.3942 - val_acc: 0.8750\n",
            "Epoch 31/100\n",
            "25/25 [==============================] - 16s 647ms/step - loss: 2.4531e-04 - acc: 1.0000 - val_loss: 0.3922 - val_acc: 0.8750\n",
            "Epoch 32/100\n",
            "25/25 [==============================] - 18s 691ms/step - loss: 1.7729e-04 - acc: 1.0000 - val_loss: 0.3905 - val_acc: 0.8750\n",
            "Epoch 33/100\n",
            "25/25 [==============================] - 18s 729ms/step - loss: 1.3581e-04 - acc: 1.0000 - val_loss: 0.3901 - val_acc: 0.8750\n",
            "Epoch 34/100\n",
            "25/25 [==============================] - 17s 689ms/step - loss: 1.3083e-04 - acc: 1.0000 - val_loss: 0.3893 - val_acc: 0.8750\n",
            "Epoch 35/100\n",
            "25/25 [==============================] - 18s 723ms/step - loss: 1.5085e-04 - acc: 1.0000 - val_loss: 0.3884 - val_acc: 0.8750\n",
            "Epoch 36/100\n",
            "25/25 [==============================] - 16s 620ms/step - loss: 1.2706e-04 - acc: 1.0000 - val_loss: 0.3881 - val_acc: 0.8750\n",
            "Epoch 37/100\n",
            "25/25 [==============================] - 16s 624ms/step - loss: 1.0978e-04 - acc: 1.0000 - val_loss: 0.3877 - val_acc: 0.8750\n",
            "Epoch 38/100\n",
            "25/25 [==============================] - 15s 590ms/step - loss: 9.9223e-05 - acc: 1.0000 - val_loss: 0.3875 - val_acc: 0.8750\n",
            "Epoch 39/100\n",
            "25/25 [==============================] - 14s 566ms/step - loss: 9.6500e-05 - acc: 1.0000 - val_loss: 0.3869 - val_acc: 0.8750\n",
            "Epoch 40/100\n",
            "25/25 [==============================] - 18s 696ms/step - loss: 7.4036e-05 - acc: 1.0000 - val_loss: 0.3867 - val_acc: 0.8750\n",
            "Epoch 41/100\n",
            "25/25 [==============================] - 18s 727ms/step - loss: 8.2017e-05 - acc: 1.0000 - val_loss: 0.3862 - val_acc: 0.8750\n",
            "Epoch 42/100\n",
            "25/25 [==============================] - 18s 713ms/step - loss: 6.8888e-05 - acc: 1.0000 - val_loss: 0.3870 - val_acc: 0.8750\n",
            "Epoch 43/100\n",
            "25/25 [==============================] - 18s 713ms/step - loss: 6.9541e-05 - acc: 1.0000 - val_loss: 0.3873 - val_acc: 0.8750\n",
            "Epoch 44/100\n",
            "25/25 [==============================] - 18s 727ms/step - loss: 4.5795e-05 - acc: 1.0000 - val_loss: 0.3876 - val_acc: 0.8750\n",
            "Epoch 45/100\n",
            "25/25 [==============================] - 16s 628ms/step - loss: 6.4503e-05 - acc: 1.0000 - val_loss: 0.3876 - val_acc: 0.8750\n",
            "Epoch 46/100\n",
            "25/25 [==============================] - 18s 717ms/step - loss: 5.8268e-05 - acc: 1.0000 - val_loss: 0.3877 - val_acc: 0.8750\n",
            "Epoch 47/100\n",
            "25/25 [==============================] - 17s 666ms/step - loss: 5.5908e-05 - acc: 1.0000 - val_loss: 0.3880 - val_acc: 0.8750\n",
            "Epoch 48/100\n",
            "25/25 [==============================] - 18s 718ms/step - loss: 6.0958e-05 - acc: 1.0000 - val_loss: 0.3878 - val_acc: 0.9000\n",
            "Epoch 49/100\n",
            "25/25 [==============================] - 17s 670ms/step - loss: 3.5406e-05 - acc: 1.0000 - val_loss: 0.3878 - val_acc: 0.9000\n",
            "Epoch 50/100\n",
            "25/25 [==============================] - 16s 649ms/step - loss: 4.2588e-05 - acc: 1.0000 - val_loss: 0.3882 - val_acc: 0.9000\n",
            "Epoch 51/100\n",
            "25/25 [==============================] - 15s 603ms/step - loss: 4.8867e-05 - acc: 1.0000 - val_loss: 0.3880 - val_acc: 0.9000\n",
            "Epoch 52/100\n",
            "25/25 [==============================] - 17s 666ms/step - loss: 3.8878e-05 - acc: 1.0000 - val_loss: 0.3882 - val_acc: 0.9000\n",
            "Epoch 53/100\n",
            "25/25 [==============================] - 18s 710ms/step - loss: 4.1820e-05 - acc: 1.0000 - val_loss: 0.3887 - val_acc: 0.9000\n",
            "Epoch 54/100\n",
            "25/25 [==============================] - 18s 722ms/step - loss: 2.9998e-05 - acc: 1.0000 - val_loss: 0.3891 - val_acc: 0.9000\n",
            "Epoch 55/100\n",
            "25/25 [==============================] - 18s 729ms/step - loss: 3.8120e-05 - acc: 1.0000 - val_loss: 0.3895 - val_acc: 0.9000\n",
            "Epoch 56/100\n",
            "25/25 [==============================] - 16s 664ms/step - loss: 2.3802e-05 - acc: 1.0000 - val_loss: 0.3895 - val_acc: 0.9000\n",
            "Epoch 57/100\n",
            "25/25 [==============================] - 17s 667ms/step - loss: 3.4373e-05 - acc: 1.0000 - val_loss: 0.3897 - val_acc: 0.9000\n",
            "Epoch 58/100\n",
            "25/25 [==============================] - 17s 668ms/step - loss: 3.5352e-05 - acc: 1.0000 - val_loss: 0.3901 - val_acc: 0.9000\n",
            "Epoch 59/100\n",
            "25/25 [==============================] - 17s 670ms/step - loss: 2.8860e-05 - acc: 1.0000 - val_loss: 0.3906 - val_acc: 0.9000\n",
            "Epoch 60/100\n",
            "25/25 [==============================] - 14s 560ms/step - loss: 3.2643e-05 - acc: 1.0000 - val_loss: 0.3905 - val_acc: 0.9000\n",
            "Epoch 61/100\n",
            "25/25 [==============================] - 16s 630ms/step - loss: 2.9738e-05 - acc: 1.0000 - val_loss: 0.3906 - val_acc: 0.9000\n",
            "Epoch 62/100\n",
            "25/25 [==============================] - 17s 695ms/step - loss: 2.9773e-05 - acc: 1.0000 - val_loss: 0.3906 - val_acc: 0.9000\n",
            "Epoch 63/100\n",
            "25/25 [==============================] - 18s 721ms/step - loss: 2.8521e-05 - acc: 1.0000 - val_loss: 0.3904 - val_acc: 0.9000\n",
            "Epoch 64/100\n",
            "25/25 [==============================] - 17s 693ms/step - loss: 2.9390e-05 - acc: 1.0000 - val_loss: 0.3910 - val_acc: 0.9000\n",
            "Epoch 65/100\n",
            "25/25 [==============================] - 16s 662ms/step - loss: 2.4832e-05 - acc: 1.0000 - val_loss: 0.3915 - val_acc: 0.9000\n",
            "Epoch 66/100\n",
            "25/25 [==============================] - 16s 641ms/step - loss: 2.1933e-05 - acc: 1.0000 - val_loss: 0.3919 - val_acc: 0.9000\n",
            "Epoch 67/100\n",
            "25/25 [==============================] - 15s 591ms/step - loss: 1.9106e-05 - acc: 1.0000 - val_loss: 0.3924 - val_acc: 0.9000\n",
            "Epoch 68/100\n",
            "25/25 [==============================] - 17s 670ms/step - loss: 2.5955e-05 - acc: 1.0000 - val_loss: 0.3929 - val_acc: 0.9000\n",
            "Epoch 69/100\n",
            "25/25 [==============================] - 17s 704ms/step - loss: 1.8868e-05 - acc: 1.0000 - val_loss: 0.3934 - val_acc: 0.9000\n",
            "Epoch 70/100\n",
            "25/25 [==============================] - 16s 665ms/step - loss: 2.4445e-05 - acc: 1.0000 - val_loss: 0.3937 - val_acc: 0.9000\n",
            "Epoch 71/100\n",
            "25/25 [==============================] - 15s 585ms/step - loss: 2.6916e-05 - acc: 1.0000 - val_loss: 0.3940 - val_acc: 0.9000\n",
            "Epoch 72/100\n",
            "25/25 [==============================] - 17s 668ms/step - loss: 1.6684e-05 - acc: 1.0000 - val_loss: 0.3948 - val_acc: 0.9000\n",
            "Epoch 73/100\n",
            "25/25 [==============================] - 16s 633ms/step - loss: 2.1068e-05 - acc: 1.0000 - val_loss: 0.3951 - val_acc: 0.9000\n",
            "Epoch 74/100\n",
            "25/25 [==============================] - 15s 599ms/step - loss: 1.5488e-05 - acc: 1.0000 - val_loss: 0.3952 - val_acc: 0.9000\n",
            "Epoch 75/100\n",
            "25/25 [==============================] - 15s 605ms/step - loss: 1.8901e-05 - acc: 1.0000 - val_loss: 0.3951 - val_acc: 0.9000\n",
            "Epoch 76/100\n",
            "25/25 [==============================] - 14s 560ms/step - loss: 1.8205e-05 - acc: 1.0000 - val_loss: 0.3955 - val_acc: 0.9000\n",
            "Epoch 77/100\n",
            "25/25 [==============================] - 17s 671ms/step - loss: 1.6738e-05 - acc: 1.0000 - val_loss: 0.3960 - val_acc: 0.9000\n",
            "Epoch 78/100\n",
            "25/25 [==============================] - 16s 613ms/step - loss: 1.4901e-05 - acc: 1.0000 - val_loss: 0.3963 - val_acc: 0.9000\n",
            "Epoch 79/100\n",
            "25/25 [==============================] - 16s 623ms/step - loss: 1.4644e-05 - acc: 1.0000 - val_loss: 0.3965 - val_acc: 0.9000\n",
            "Epoch 80/100\n",
            "25/25 [==============================] - 15s 585ms/step - loss: 1.6427e-05 - acc: 1.0000 - val_loss: 0.3969 - val_acc: 0.9000\n",
            "Epoch 81/100\n",
            "25/25 [==============================] - 16s 650ms/step - loss: 1.5452e-05 - acc: 1.0000 - val_loss: 0.3969 - val_acc: 0.9000\n",
            "Epoch 82/100\n",
            "25/25 [==============================] - 17s 672ms/step - loss: 1.4673e-05 - acc: 1.0000 - val_loss: 0.3972 - val_acc: 0.9000\n",
            "Epoch 83/100\n",
            "25/25 [==============================] - 17s 672ms/step - loss: 1.1138e-05 - acc: 1.0000 - val_loss: 0.3974 - val_acc: 0.9000\n",
            "Epoch 84/100\n",
            "25/25 [==============================] - 17s 674ms/step - loss: 1.1631e-05 - acc: 1.0000 - val_loss: 0.3975 - val_acc: 0.9000\n",
            "Epoch 85/100\n",
            "25/25 [==============================] - 15s 582ms/step - loss: 1.1411e-05 - acc: 1.0000 - val_loss: 0.3979 - val_acc: 0.9000\n",
            "Epoch 86/100\n",
            "25/25 [==============================] - 14s 562ms/step - loss: 1.2792e-05 - acc: 1.0000 - val_loss: 0.3983 - val_acc: 0.9000\n",
            "Epoch 87/100\n",
            "25/25 [==============================] - 18s 713ms/step - loss: 1.1972e-05 - acc: 1.0000 - val_loss: 0.3988 - val_acc: 0.9000\n",
            "Epoch 88/100\n",
            "25/25 [==============================] - 17s 668ms/step - loss: 1.2583e-05 - acc: 1.0000 - val_loss: 0.3991 - val_acc: 0.9000\n",
            "Epoch 89/100\n",
            "25/25 [==============================] - 17s 670ms/step - loss: 1.3979e-05 - acc: 1.0000 - val_loss: 0.3994 - val_acc: 0.9000\n",
            "Epoch 90/100\n",
            "25/25 [==============================] - 17s 698ms/step - loss: 1.2690e-05 - acc: 1.0000 - val_loss: 0.3997 - val_acc: 0.9000\n",
            "Epoch 91/100\n",
            "25/25 [==============================] - 15s 613ms/step - loss: 1.0913e-05 - acc: 1.0000 - val_loss: 0.4001 - val_acc: 0.9000\n",
            "Epoch 92/100\n",
            "25/25 [==============================] - 17s 674ms/step - loss: 1.2208e-05 - acc: 1.0000 - val_loss: 0.4004 - val_acc: 0.9000\n",
            "Epoch 93/100\n",
            "25/25 [==============================] - 16s 629ms/step - loss: 1.0673e-05 - acc: 1.0000 - val_loss: 0.4008 - val_acc: 0.9000\n",
            "Epoch 94/100\n",
            "25/25 [==============================] - 15s 592ms/step - loss: 1.1242e-05 - acc: 1.0000 - val_loss: 0.4008 - val_acc: 0.9000\n",
            "Epoch 95/100\n",
            "25/25 [==============================] - 17s 660ms/step - loss: 9.4817e-06 - acc: 1.0000 - val_loss: 0.4012 - val_acc: 0.9000\n",
            "Epoch 96/100\n",
            "25/25 [==============================] - 18s 699ms/step - loss: 9.9788e-06 - acc: 1.0000 - val_loss: 0.4015 - val_acc: 0.9000\n",
            "Epoch 97/100\n",
            "25/25 [==============================] - 16s 662ms/step - loss: 1.0084e-05 - acc: 1.0000 - val_loss: 0.4019 - val_acc: 0.9000\n",
            "Epoch 98/100\n",
            "25/25 [==============================] - 18s 725ms/step - loss: 9.9108e-06 - acc: 1.0000 - val_loss: 0.4022 - val_acc: 0.9000\n",
            "Epoch 99/100\n",
            "25/25 [==============================] - 18s 718ms/step - loss: 7.6874e-06 - acc: 1.0000 - val_loss: 0.4029 - val_acc: 0.9000\n",
            "Epoch 100/100\n",
            "25/25 [==============================] - 16s 663ms/step - loss: 1.0085e-05 - acc: 1.0000 - val_loss: 0.4032 - val_acc: 0.9000\n"
          ]
        }
      ]
    },
    {
      "cell_type": "code",
      "source": [
        "# 저장된 모델을 언제든지 로드하고 평가할 수 있습니다.\n",
        "# 훈련 끝나면 호델 저장\n",
        "model.save_weights('model', save_format='tf')"
      ],
      "metadata": {
        "id": "U3vM0bMqmyD5"
      },
      "execution_count": null,
      "outputs": []
    },
    {
      "cell_type": "code",
      "source": [
        "#훈련 데이터와 검증 데이터에 대한 모델의 손실과 정확도를 그래프\n",
        "acc = history.history['acc']\n",
        "val_acc = history.history['val_acc']\n",
        "loss = history.history['loss']\n",
        "val_loss = history.history['val_loss']\n",
        "\n",
        "epochs = range(len(acc))\n",
        "\n",
        "plt.plot(epochs, acc, 'bo', label='Training acc')\n",
        "plt.plot(epochs, val_acc, 'b', label='Validation acc')\n",
        "plt.title('Training and validation accuracy')\n",
        "plt.legend()\n",
        "\n",
        "plt.figure()\n",
        "\n",
        "plt.plot(epochs, loss, 'bo', label='Training loss')\n",
        "plt.plot(epochs, val_loss, 'b', label='Validation loss')\n",
        "plt.title('Training and validation loss')\n",
        "plt.legend()\n",
        "\n",
        "plt.show()"
      ],
      "metadata": {
        "colab": {
          "base_uri": "https://localhost:8080/",
          "height": 887
        },
        "id": "Dzg_uUw6ymFR",
        "outputId": "675df1ab-3564-465e-d6c7-03b29f0dd4d6"
      },
      "execution_count": null,
      "outputs": [
        {
          "output_type": "display_data",
          "data": {
            "text/plain": [
              "<Figure size 640x480 with 1 Axes>"
            ],
            "image/png": "[encoded data removed]"
          },
          "metadata": {}
        },
        {
          "output_type": "display_data",
          "data": {
            "text/plain": [
              "<Figure size 640x480 with 1 Axes>"
            ],
            "image/png": "[encoded data removed]"
          },
          "metadata": {}
        }
      ]
    },
    {
      "cell_type": "code",
      "source": [],
      "metadata": {
        "id": "zVHrh-WFmyGg"
      },
      "execution_count": null,
      "outputs": []
    },
    {
      "cell_type": "code",
      "source": [],
      "metadata": {
        "id": "YelGDYclmyI2"
      },
      "execution_count": null,
      "outputs": []
    },
    {
      "cell_type": "code",
      "source": [],
      "metadata": {
        "id": "7T5RMbo_myLN"
      },
      "execution_count": null,
      "outputs": []
    },
    {
      "cell_type": "code",
      "source": [],
      "metadata": {
        "id": "oauRKJflmyNQ"
      },
      "execution_count": null,
      "outputs": []
    },
    {
      "cell_type": "code",
      "source": [],
      "metadata": {
        "id": "FmwBzN01myPn"
      },
      "execution_count": null,
      "outputs": []
    }
  ]
}